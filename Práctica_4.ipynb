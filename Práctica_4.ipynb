{
  "nbformat": 4,
  "nbformat_minor": 0,
  "metadata": {
    "colab": {
      "provenance": [],
      "authorship_tag": "ABX9TyPZR5GrKkiYfuJV7SY8NIEN",
      "include_colab_link": true
    },
    "kernelspec": {
      "name": "python3",
      "display_name": "Python 3"
    },
    "language_info": {
      "name": "python"
    }
  },
  "cells": [
    {
      "cell_type": "markdown",
      "metadata": {
        "id": "view-in-github",
        "colab_type": "text"
      },
      "source": [
        "<a href=\"https://colab.research.google.com/github/Siertx/Aprendizaje-automatico/blob/main/Pr%C3%A1ctica_4.ipynb\" target=\"_parent\"><img src=\"https://colab.research.google.com/assets/colab-badge.svg\" alt=\"Open In Colab\"/></a>"
      ]
    },
    {
      "cell_type": "code",
      "source": [
        "import urllib.request\n",
        "import zipfile\n",
        "import random\n",
        "import numpy as np\n",
        "from os import remove\n",
        "from sklearn.preprocessing import MinMaxScaler\n",
        "from sklearn.preprocessing import LabelEncoder\n",
        "from sklearn.feature_selection import VarianceThreshold\n",
        "import pandas as pd"
      ],
      "metadata": {
        "id": "JblCIXMZKy_-"
      },
      "execution_count": null,
      "outputs": []
    },
    {
      "cell_type": "code",
      "execution_count": null,
      "metadata": {
        "id": "w9VEkaQwbtP_"
      },
      "outputs": [],
      "source": [
        "url = 'https://archive.ics.uci.edu/static/public/320/student+performance.zip'\n",
        "urllib.request.urlretrieve(url, 'student+performance.zip')\n",
        "\n",
        "extract_dir = 'sample_data/'\n",
        "with zipfile.ZipFile('student+performance.zip', 'r') as zip_ref:\n",
        "    zip_ref.extractall(extract_dir)\n",
        "    remove('student+performance.zip') #<- al terminar borramos el ZIP\n",
        "\n",
        "extract_dir = 'sample_data/'\n",
        "with zipfile.ZipFile(extract_dir+'student.zip', 'r') as zip_ref:\n",
        "      zip_ref.extractall(extract_dir)\n",
        "      remove(extract_dir+'student.zip') #<- al terminar borramos el ZIP\n",
        "\n",
        "df1 = pd.read_csv(extract_dir+'student-por.csv', sep=';')\n",
        "df2 = pd.read_csv(extract_dir+'student-mat.csv', sep=';')\n",
        "\n",
        "df = pd.merge(df1, df2, on=[\"school\", \"sex\", \"age\", \"address\", \"famsize\", \"Pstatus\", \"Medu\", \"Fedu\", \"Mjob\", \"Fjob\", \"reason\", \"nursery\", \"internet\"])"
      ]
    },
    {
      "cell_type": "code",
      "source": [
        "flag_save_test = False\n",
        "fraction_test = 0.2\n",
        "\n",
        "idx = df.index.tolist()\n",
        "random.shuffle(idx)\n",
        "\n",
        "N,D = df.shape\n",
        "\n",
        "N_test = int(N*fraction_test)\n",
        "testset = df.iloc[idx[:N_test]]\n",
        "trainset = df.iloc[idx[N_test:]]\n",
        "\n",
        "print(f'El tamaño del conj. de entrenamiento es: ',trainset.shape)\n",
        "print(f'El tamaño del conj. de test es: ',testset.shape)\n",
        "\n",
        "if flag_save_test:\n",
        "  test_folder = \".....\" #<- ruta de la carpeta, por ejemplo \"sample_data/\"\n",
        "  test_name   = \".....\" #<- nombre del CSV donde guardamos testSet\n",
        "  testset.to_csv(test_folder + test_name, dec='.', sep=';', header=True)"
      ],
      "metadata": {
        "colab": {
          "base_uri": "https://localhost:8080/"
        },
        "id": "LPC26fu6KpOE",
        "outputId": "ee6a1853-9708-4a53-93a3-e4d732f2105e"
      },
      "execution_count": null,
      "outputs": [
        {
          "output_type": "stream",
          "name": "stdout",
          "text": [
            "El tamaño del conj. de entrenamiento es:  (306, 53)\n",
            "El tamaño del conj. de test es:  (76, 53)\n"
          ]
        }
      ]
    },
    {
      "cell_type": "code",
      "source": [
        "print(trainset.head(10))"
      ],
      "metadata": {
        "colab": {
          "base_uri": "https://localhost:8080/"
        },
        "id": "Iq-WV02wSUuG",
        "outputId": "6a85e4d9-b42e-4f18-da34-ab6e8f557fab"
      },
      "execution_count": null,
      "outputs": [
        {
          "output_type": "stream",
          "name": "stdout",
          "text": [
            "    school sex  age address famsize Pstatus  Medu  Fedu      Mjob      Fjob  \\\n",
            "45      GP   F   15       U     LE3       A     4     3     other     other   \n",
            "319     GP   M   18       U     GT3       T     4     4     other     other   \n",
            "254     GP   M   16       U     GT3       T     3     3   at_home     other   \n",
            "250     GP   M   22       U     GT3       T     3     1  services  services   \n",
            "50      GP   F   16       U     LE3       T     2     2  services  services   \n",
            "368     MS   F   18       U     GT3       T     3     3     other     other   \n",
            "133     GP   F   15       U     GT3       T     1     1   at_home     other   \n",
            "116     GP   M   15       R     GT3       T     2     1    health  services   \n",
            "64      GP   F   15       U     LE3       T     4     3  services  services   \n",
            "344     MS   M   17       U     GT3       T     3     3    health     other   \n",
            "\n",
            "     ... famrel_y freetime_y  goout_y  Dalc_y  Walc_y health_y absences_y  \\\n",
            "45   ...        5          2        2       1       1        5          8   \n",
            "319  ...        4          3        3       2       2        3          3   \n",
            "254  ...        5          3        3       1       3        2          6   \n",
            "250  ...        5          4        5       5       5        1         16   \n",
            "50   ...        4          3        3       2       3        4          2   \n",
            "368  ...        4          1        3       1       2        1          0   \n",
            "133  ...        4          3        3       1       2        4          0   \n",
            "116  ...        5          4        2       1       1        5          8   \n",
            "64   ...        4          4        4       2       4        2          0   \n",
            "344  ...        4          5        4       2       3        3          2   \n",
            "\n",
            "    G1_y G2_y G3_y  \n",
            "45     8    8    6  \n",
            "319    9   12   11  \n",
            "254    7   10   10  \n",
            "250    6    8    8  \n",
            "50    12   13   13  \n",
            "368   15   15   15  \n",
            "133    8    0    0  \n",
            "116    9    9    9  \n",
            "64    10   10   10  \n",
            "344   13   13   13  \n",
            "\n",
            "[10 rows x 53 columns]\n"
          ]
        }
      ]
    },
    {
      "cell_type": "markdown",
      "source": [
        "Separamos los datos:"
      ],
      "metadata": {
        "id": "K21075D-VIpR"
      }
    },
    {
      "cell_type": "code",
      "source": [
        "col_num = trainset.select_dtypes(include=['int64', 'float64']).columns\n",
        "col_cat = trainset.select_dtypes(include=['object', 'category']).columns\n"
      ],
      "metadata": {
        "id": "oRHU9YWiVEtK"
      },
      "execution_count": null,
      "outputs": []
    },
    {
      "cell_type": "markdown",
      "source": [
        "Escalamos\n"
      ],
      "metadata": {
        "id": "H_FqugZOV-8_"
      }
    },
    {
      "cell_type": "code",
      "source": [
        "scalar = MinMaxScaler()\n",
        "trainset[col_num] = scalar.fit_transform(trainset[col_num])"
      ],
      "metadata": {
        "id": "KAXQ0i8YWAZO"
      },
      "execution_count": null,
      "outputs": []
    },
    {
      "cell_type": "markdown",
      "source": [
        "Filtramos aquellos que tengan menos de 0.03 de varianza"
      ],
      "metadata": {
        "id": "Xf6qW8arW9XJ"
      }
    },
    {
      "cell_type": "code",
      "source": [
        "selector = VarianceThreshold(threshold=0.03)\n",
        "selector.set_output(transform=\"pandas\")\n",
        "selector.fit(trainset[col_num])\n",
        "df_SemiFiltrao = selector.transform(trainset[col_num])"
      ],
      "metadata": {
        "id": "EIxCW3BGW8oF"
      },
      "execution_count": null,
      "outputs": []
    },
    {
      "cell_type": "markdown",
      "source": [
        "Filtramos ahora por correlación entre columnas con un coeficiente superior a 0.95"
      ],
      "metadata": {
        "id": "gyyOEUjnYkgJ"
      }
    },
    {
      "cell_type": "markdown",
      "source": [
        "Averiguamos la correlación entre ellas"
      ],
      "metadata": {
        "id": "mmpySpeIZY5B"
      }
    },
    {
      "cell_type": "code",
      "source": [
        "correlacion = df_SemiFiltrao.corr()"
      ],
      "metadata": {
        "id": "Zv_hbYq6YkB0"
      },
      "execution_count": null,
      "outputs": []
    },
    {
      "cell_type": "markdown",
      "source": [
        "Apuntamos al triángulo superior de la matriz para evitar duplicados y la diagonal"
      ],
      "metadata": {
        "id": "AgieSUSEcFhg"
      }
    },
    {
      "cell_type": "code",
      "source": [
        "upper = correlacion.where(np.triu(np.ones(correlacion.shape), k=1).astype(bool))"
      ],
      "metadata": {
        "id": "7Tle8pazcN0Z"
      },
      "execution_count": null,
      "outputs": []
    },
    {
      "cell_type": "markdown",
      "source": [
        "Identificamos las columnas con un coeficiente superior a 0.95"
      ],
      "metadata": {
        "id": "Y7FhxtISczqb"
      }
    },
    {
      "cell_type": "code",
      "source": [
        "to_drop = [column for column in upper.columns if any(upper[column] > 0.95)]"
      ],
      "metadata": {
        "id": "2OMh1E-Rc3Xk"
      },
      "execution_count": null,
      "outputs": []
    },
    {
      "cell_type": "markdown",
      "source": [
        "Sacamos las columnas anteriormente detectadas"
      ],
      "metadata": {
        "id": "RCbbjgcuc6QP"
      }
    },
    {
      "cell_type": "code",
      "source": [
        "df_filtrao = df.drop(columns=to_drop)\n",
        "print(df_filtrao.head(10))"
      ],
      "metadata": {
        "colab": {
          "base_uri": "https://localhost:8080/"
        },
        "id": "khl5WOx8c9Hy",
        "outputId": "464c71ce-4584-4fd2-8e63-dafbbed1e053"
      },
      "execution_count": null,
      "outputs": [
        {
          "output_type": "stream",
          "name": "stdout",
          "text": [
            "  school sex       age address famsize Pstatus  Medu  Fedu      Mjob  \\\n",
            "0     GP   F  0.428571       U     GT3       A  1.00  1.00   at_home   \n",
            "1     GP   F  0.285714       U     GT3       T  0.25  0.25   at_home   \n",
            "2     GP   F  0.000000       U     LE3       T  0.25  0.25   at_home   \n",
            "3     GP   F  0.000000       U     GT3       T  1.00  0.50    health   \n",
            "4     GP   F  0.142857       U     GT3       T  0.75  0.75     other   \n",
            "5     GP   M  0.142857       U     LE3       T  1.00  0.75  services   \n",
            "6     GP   M  0.142857       U     LE3       T  0.50  0.50     other   \n",
            "7     GP   F  0.285714       U     GT3       A  1.00  1.00     other   \n",
            "8     GP   M  0.000000       U     LE3       A  0.75  0.50  services   \n",
            "9     GP   M  0.000000       U     GT3       T  0.75  1.00     other   \n",
            "\n",
            "       Fjob  ... schoolsup_y famsup_y  paid_y  activities_y  higher_y  \\\n",
            "0   teacher  ...         yes       no      no            no       yes   \n",
            "1     other  ...          no      yes      no            no       yes   \n",
            "2     other  ...         yes       no     yes            no       yes   \n",
            "3  services  ...          no      yes     yes           yes       yes   \n",
            "4     other  ...          no      yes     yes            no       yes   \n",
            "5     other  ...          no      yes     yes           yes       yes   \n",
            "6     other  ...          no       no      no            no       yes   \n",
            "7   teacher  ...         yes      yes      no            no       yes   \n",
            "8     other  ...          no      yes     yes            no       yes   \n",
            "9     other  ...          no      yes     yes           yes       yes   \n",
            "\n",
            "  romantic_y absences_y    G1_y      G2_y  G3_y  \n",
            "0         no   0.080000  0.1250  0.315789  0.30  \n",
            "1         no   0.053333  0.1250  0.263158  0.30  \n",
            "2         no   0.133333  0.2500  0.421053  0.50  \n",
            "3        yes   0.026667  0.7500  0.736842  0.75  \n",
            "4         no   0.053333  0.1875  0.526316  0.50  \n",
            "5         no   0.133333  0.7500  0.789474  0.75  \n",
            "6         no   0.000000  0.5625  0.631579  0.55  \n",
            "7         no   0.080000  0.1875  0.263158  0.30  \n",
            "8         no   0.000000  0.8125  0.947368  0.95  \n",
            "9         no   0.000000  0.6875  0.789474  0.75  \n",
            "\n",
            "[10 rows x 45 columns]\n"
          ]
        }
      ]
    },
    {
      "cell_type": "markdown",
      "source": [
        "Codificamos los atributos categoricos"
      ],
      "metadata": {
        "id": "JxhmS2llk-4f"
      }
    },
    {
      "cell_type": "code",
      "source": [
        "le = LabelEncoder()\n",
        "for col in col_cat:\n",
        "    df_filtrao[col] = le.fit_transform(df_filtrao[col])"
      ],
      "metadata": {
        "id": "QZnJ1Fe2lEHq"
      },
      "execution_count": null,
      "outputs": []
    },
    {
      "cell_type": "code",
      "source": [
        "print(df_filtrao.head(10))"
      ],
      "metadata": {
        "colab": {
          "base_uri": "https://localhost:8080/"
        },
        "id": "XU4JOUsvnkpv",
        "outputId": "e9a6e1cd-3f02-4437-dcee-2143793d3abb"
      },
      "execution_count": null,
      "outputs": [
        {
          "output_type": "stream",
          "name": "stdout",
          "text": [
            "   school  sex       age  address  famsize  Pstatus  Medu  Fedu  Mjob  Fjob  \\\n",
            "0       0    0  0.428571        1        0        0  1.00  1.00     0     4   \n",
            "1       0    0  0.285714        1        0        1  0.25  0.25     0     2   \n",
            "2       0    0  0.000000        1        1        1  0.25  0.25     0     2   \n",
            "3       0    0  0.000000        1        0        1  1.00  0.50     1     3   \n",
            "4       0    0  0.142857        1        0        1  0.75  0.75     2     2   \n",
            "5       0    1  0.142857        1        1        1  1.00  0.75     3     2   \n",
            "6       0    1  0.142857        1        1        1  0.50  0.50     2     2   \n",
            "7       0    0  0.285714        1        0        0  1.00  1.00     2     4   \n",
            "8       0    1  0.000000        1        1        0  0.75  0.50     3     2   \n",
            "9       0    1  0.000000        1        0        1  0.75  1.00     2     2   \n",
            "\n",
            "   ...  schoolsup_y  famsup_y  paid_y  activities_y  higher_y  romantic_y  \\\n",
            "0  ...            1         0       0             0         1           0   \n",
            "1  ...            0         1       0             0         1           0   \n",
            "2  ...            1         0       1             0         1           0   \n",
            "3  ...            0         1       1             1         1           1   \n",
            "4  ...            0         1       1             0         1           0   \n",
            "5  ...            0         1       1             1         1           0   \n",
            "6  ...            0         0       0             0         1           0   \n",
            "7  ...            1         1       0             0         1           0   \n",
            "8  ...            0         1       1             0         1           0   \n",
            "9  ...            0         1       1             1         1           0   \n",
            "\n",
            "   absences_y    G1_y      G2_y  G3_y  \n",
            "0    0.080000  0.1250  0.315789  0.30  \n",
            "1    0.053333  0.1250  0.263158  0.30  \n",
            "2    0.133333  0.2500  0.421053  0.50  \n",
            "3    0.026667  0.7500  0.736842  0.75  \n",
            "4    0.053333  0.1875  0.526316  0.50  \n",
            "5    0.133333  0.7500  0.789474  0.75  \n",
            "6    0.000000  0.5625  0.631579  0.55  \n",
            "7    0.080000  0.1875  0.263158  0.30  \n",
            "8    0.000000  0.8125  0.947368  0.95  \n",
            "9    0.000000  0.6875  0.789474  0.75  \n",
            "\n",
            "[10 rows x 45 columns]\n"
          ]
        }
      ]
    }
  ]
}